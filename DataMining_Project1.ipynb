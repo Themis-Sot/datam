{
  "nbformat": 4,
  "nbformat_minor": 0,
  "metadata": {
    "colab": {
      "name": "DataMining_Project1.ipynb",
      "provenance": [],
      "collapsed_sections": [],
      "authorship_tag": "ABX9TyOSjqUuG/em3pKrO/LKosQq",
      "include_colab_link": true
    },
    "kernelspec": {
      "name": "python3",
      "display_name": "Python 3"
    },
    "language_info": {
      "name": "python"
    }
  },
  "cells": [
    {
      "cell_type": "markdown",
      "metadata": {
        "id": "view-in-github",
        "colab_type": "text"
      },
      "source": [
        "<a href=\"https://colab.research.google.com/github/Themis-Sot/datam/blob/main/DataMining_Project1.ipynb\" target=\"_parent\"><img src=\"https://colab.research.google.com/assets/colab-badge.svg\" alt=\"Open In Colab\"/></a>"
      ]
    },
    {
      "cell_type": "markdown",
      "metadata": {
        "id": "jqKSx5hvWybZ"
      },
      "source": [
        "Αρχικοποίηση\n"
      ]
    },
    {
      "cell_type": "code",
      "metadata": {
        "colab": {
          "base_uri": "https://localhost:8080/",
          "height": 204
        },
        "id": "YHCLVdbJW4Q5",
        "outputId": "090c7724-125c-4575-f6b8-d7ede9d84d13"
      },
      "source": [
        "import matplotlib\n",
        "import sys\n",
        "import pandas\n",
        "import random\n",
        "from google.colab import drive\n",
        "\n",
        "\n",
        "# drive.mount('/content/gdrive')\n",
        "data=pandas.read_csv('/content/gdrive/MyDrive/DataMining/Project1/data_sample/netflix_titles.csv')\n",
        "data.columns=['show_id','type','title','director','cast','country','date_added','release year','rating','duration','listed_in','description']\n",
        "data=data.drop(labels=0,axis=0)\n",
        "data.head(5)"
      ],
      "execution_count": 39,
      "outputs": [
        {
          "output_type": "execute_result",
          "data": {
            "text/html": [
              "<div>\n",
              "<style scoped>\n",
              "    .dataframe tbody tr th:only-of-type {\n",
              "        vertical-align: middle;\n",
              "    }\n",
              "\n",
              "    .dataframe tbody tr th {\n",
              "        vertical-align: top;\n",
              "    }\n",
              "\n",
              "    .dataframe thead th {\n",
              "        text-align: right;\n",
              "    }\n",
              "</style>\n",
              "<table border=\"1\" class=\"dataframe\">\n",
              "  <thead>\n",
              "    <tr style=\"text-align: right;\">\n",
              "      <th></th>\n",
              "      <th>show_id</th>\n",
              "      <th>type</th>\n",
              "      <th>title</th>\n",
              "      <th>director</th>\n",
              "      <th>cast</th>\n",
              "      <th>country</th>\n",
              "      <th>date_added</th>\n",
              "      <th>release year</th>\n",
              "      <th>rating</th>\n",
              "      <th>duration</th>\n",
              "      <th>listed_in</th>\n",
              "      <th>description</th>\n",
              "    </tr>\n",
              "  </thead>\n",
              "  <tbody>\n",
              "    <tr>\n",
              "      <th>1</th>\n",
              "      <td>s2</td>\n",
              "      <td>Movie</td>\n",
              "      <td>7:19</td>\n",
              "      <td>Jorge Michel Grau</td>\n",
              "      <td>Demián Bichir, Héctor Bonilla, Oscar Serrano, ...</td>\n",
              "      <td>Mexico</td>\n",
              "      <td>December 23, 2016</td>\n",
              "      <td>2016</td>\n",
              "      <td>TV-MA</td>\n",
              "      <td>93 min</td>\n",
              "      <td>Dramas, International Movies</td>\n",
              "      <td>After a devastating earthquake hits Mexico Cit...</td>\n",
              "    </tr>\n",
              "    <tr>\n",
              "      <th>2</th>\n",
              "      <td>s3</td>\n",
              "      <td>Movie</td>\n",
              "      <td>23:59</td>\n",
              "      <td>Gilbert Chan</td>\n",
              "      <td>Tedd Chan, Stella Chung, Henley Hii, Lawrence ...</td>\n",
              "      <td>Singapore</td>\n",
              "      <td>December 20, 2018</td>\n",
              "      <td>2011</td>\n",
              "      <td>R</td>\n",
              "      <td>78 min</td>\n",
              "      <td>Horror Movies, International Movies</td>\n",
              "      <td>When an army recruit is found dead, his fellow...</td>\n",
              "    </tr>\n",
              "    <tr>\n",
              "      <th>3</th>\n",
              "      <td>s4</td>\n",
              "      <td>Movie</td>\n",
              "      <td>9</td>\n",
              "      <td>Shane Acker</td>\n",
              "      <td>Elijah Wood, John C. Reilly, Jennifer Connelly...</td>\n",
              "      <td>United States</td>\n",
              "      <td>November 16, 2017</td>\n",
              "      <td>2009</td>\n",
              "      <td>PG-13</td>\n",
              "      <td>80 min</td>\n",
              "      <td>Action &amp; Adventure, Independent Movies, Sci-Fi...</td>\n",
              "      <td>In a postapocalyptic world, rag-doll robots hi...</td>\n",
              "    </tr>\n",
              "    <tr>\n",
              "      <th>4</th>\n",
              "      <td>s5</td>\n",
              "      <td>Movie</td>\n",
              "      <td>21</td>\n",
              "      <td>Robert Luketic</td>\n",
              "      <td>Jim Sturgess, Kevin Spacey, Kate Bosworth, Aar...</td>\n",
              "      <td>United States</td>\n",
              "      <td>January 1, 2020</td>\n",
              "      <td>2008</td>\n",
              "      <td>PG-13</td>\n",
              "      <td>123 min</td>\n",
              "      <td>Dramas</td>\n",
              "      <td>A brilliant group of students become card-coun...</td>\n",
              "    </tr>\n",
              "    <tr>\n",
              "      <th>5</th>\n",
              "      <td>s6</td>\n",
              "      <td>TV Show</td>\n",
              "      <td>46</td>\n",
              "      <td>Serdar Akar</td>\n",
              "      <td>Erdal Beşikçioğlu, Yasemin Allen, Melis Birkan...</td>\n",
              "      <td>Turkey</td>\n",
              "      <td>July 1, 2017</td>\n",
              "      <td>2016</td>\n",
              "      <td>TV-MA</td>\n",
              "      <td>1 Season</td>\n",
              "      <td>International TV Shows, TV Dramas, TV Mysteries</td>\n",
              "      <td>A genetics professor experiments with a treatm...</td>\n",
              "    </tr>\n",
              "  </tbody>\n",
              "</table>\n",
              "</div>"
            ],
            "text/plain": [
              "  show_id  ...                                        description\n",
              "1      s2  ...  After a devastating earthquake hits Mexico Cit...\n",
              "2      s3  ...  When an army recruit is found dead, his fellow...\n",
              "3      s4  ...  In a postapocalyptic world, rag-doll robots hi...\n",
              "4      s5  ...  A brilliant group of students become card-coun...\n",
              "5      s6  ...  A genetics professor experiments with a treatm...\n",
              "\n",
              "[5 rows x 12 columns]"
            ]
          },
          "metadata": {
            "tags": []
          },
          "execution_count": 39
        }
      ]
    },
    {
      "cell_type": "markdown",
      "metadata": {
        "id": "8Tp2kWKSW_qm"
      },
      "source": [
        "**Ερώτημα 1:**\n",
        "*Ποιό είδος υπερτερεί, οι ταινίες ή οι σειρές ;*\n"
      ]
    },
    {
      "cell_type": "code",
      "metadata": {
        "colab": {
          "base_uri": "https://localhost:8080/"
        },
        "id": "JudMqLQiXRvd",
        "outputId": "07611e2d-f9c8-4ad7-9bc3-be52f7eede2a"
      },
      "source": [
        "num_movies=data.loc[data['type']=='Movie'].count().max()\n",
        "num_shows=data.loc[data['type']=='TV Show'].count().max()\n",
        "if num_movies>num_shows:\n",
        "    print('Υπερτερούν οι ταινίες με αριθμό:', num_movies)\n",
        "else:\n",
        "    print('Υπερτερούν οι σειρές με αριθμό', num_show)"
      ],
      "execution_count": 40,
      "outputs": [
        {
          "output_type": "stream",
          "text": [
            "Υπερτερούν οι ταινίες με αριθμό: 5377\n"
          ],
          "name": "stdout"
        }
      ]
    },
    {
      "cell_type": "markdown",
      "metadata": {
        "id": "Q8szWECWXWgv"
      },
      "source": [
        "**Ερώτημα 2:**\n",
        "*Τα τελευταία χρόνια το netflix επενδύει περισσότερο σε ταινίες ή σε σειρές;*"
      ]
    },
    {
      "cell_type": "code",
      "metadata": {
        "colab": {
          "base_uri": "https://localhost:8080/"
        },
        "id": "Q3iJ7OAGXlvU",
        "outputId": "0a30f4c2-f48e-4b56-b1a0-8c5416bb0f85"
      },
      "source": [
        "print(\"Ερώτημα 2:\")"
      ],
      "execution_count": 41,
      "outputs": [
        {
          "output_type": "stream",
          "text": [
            "Ερώτημα 2:\n"
          ],
          "name": "stdout"
        }
      ]
    },
    {
      "cell_type": "markdown",
      "metadata": {
        "id": "6yw8ZfUUXq3K"
      },
      "source": [
        "**Ερώτημα 3:**\n",
        "*Ποιά χώρα έχει το περισσότερο περιεχόμενο;*"
      ]
    },
    {
      "cell_type": "code",
      "metadata": {
        "colab": {
          "base_uri": "https://localhost:8080/"
        },
        "id": "DysFkCsrX2XU",
        "outputId": "58b3aa6e-fa21-40d3-dedd-46c92291ee09"
      },
      "source": [
        "country=data['country'].value_counts()[:1].index.tolist()\n",
        "output=''.join(country)\n",
        "print(\"Η χώρα με το περισσότερο περιεχόμενο είναι: \",output)"
      ],
      "execution_count": 42,
      "outputs": [
        {
          "output_type": "stream",
          "text": [
            "Η χώρα με το περισσότερο περιεχόμενο είναι:  United States\n"
          ],
          "name": "stdout"
        }
      ]
    },
    {
      "cell_type": "markdown",
      "metadata": {
        "id": "z5-4hq3gYD2F"
      },
      "source": [
        "**Ερώτημα 4:**\n",
        "*Τι είδους περιεχόμενο έχει κάθε χώρα;*"
      ]
    },
    {
      "cell_type": "code",
      "metadata": {
        "colab": {
          "base_uri": "https://localhost:8080/"
        },
        "id": "aoYDvwUBYOP2",
        "outputId": "ce890f05-146a-448e-f6e2-974d0e21edbc"
      },
      "source": [
        "# countries=set()\n",
        "# for country in data['country']:\n",
        "#     countries.add(country)\n",
        "# print(countries)\n",
        "\n",
        "countries=set()\n",
        "tok=data['country'].astype(str).str.split(\",\")\n",
        "print(tok)\n",
        "\n",
        "# countries=data['country'].astype(str).str.split(\",\").tolist()\n",
        "# print(countries)\n",
        "\n",
        "# countries=data['country'].astype(str).tolist()\n",
        "# for c in countries:\n",
        "#     print(c)"
      ],
      "execution_count": 45,
      "outputs": [
        {
          "output_type": "stream",
          "text": [
            "1                                                [Mexico]\n",
            "2                                             [Singapore]\n",
            "3                                         [United States]\n",
            "4                                         [United States]\n",
            "5                                                [Turkey]\n",
            "                              ...                        \n",
            "7782    [Sweden,  Czech Republic,  United Kingdom,  De...\n",
            "7783                                              [India]\n",
            "7784                                                [nan]\n",
            "7785                                          [Australia]\n",
            "7786            [United Kingdom,  Canada,  United States]\n",
            "Name: country, Length: 7786, dtype: object\n"
          ],
          "name": "stdout"
        }
      ]
    }
  ]
}