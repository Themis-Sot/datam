{
  "nbformat": 4,
  "nbformat_minor": 0,
  "metadata": {
    "colab": {
      "name": "DataMining_Project1.ipynb",
      "provenance": [],
      "collapsed_sections": [],
      "authorship_tag": "ABX9TyOr8oHirLjRACPZOq61ScxQ"
    },
    "kernelspec": {
      "name": "python3",
      "display_name": "Python 3"
    },
    "language_info": {
      "name": "python"
    }
  },
  "cells": [
    {
      "cell_type": "markdown",
      "metadata": {
        "id": "jqKSx5hvWybZ"
      },
      "source": [
        "Αρχικοποίηση\n"
      ]
    },
    {
      "cell_type": "code",
      "metadata": {
        "id": "YHCLVdbJW4Q5",
        "colab": {
          "base_uri": "https://localhost:8080/"
        },
        "outputId": "ff01d917-a71c-4b75-9eb2-e36a3a5017b0"
      },
      "source": [
        "import matplotlib as mpl\n",
        "import sys\n",
        "import pandas as pd\n",
        "import random\n",
        "import numpy as np\n",
        "from google.colab import drive\n",
        "drive.mount('/content/gdrive')"
      ],
      "execution_count": 20,
      "outputs": [
        {
          "output_type": "stream",
          "text": [
            "Drive already mounted at /content/gdrive; to attempt to forcibly remount, call drive.mount(\"/content/gdrive\", force_remount=True).\n"
          ],
          "name": "stdout"
        }
      ]
    },
    {
      "cell_type": "markdown",
      "metadata": {
        "id": "zKcLekNem3fx"
      },
      "source": [
        "*Διάβασμα αρχείου Netflix*"
      ]
    },
    {
      "cell_type": "code",
      "metadata": {
        "colab": {
          "base_uri": "https://localhost:8080/",
          "height": 289
        },
        "id": "vIoT2jbSm-yQ",
        "outputId": "982329fc-cb85-4921-e306-34a0429cb6da"
      },
      "source": [
        "netflix=pd.read_csv('/content/gdrive/MyDrive/DataMining/Project1/data_sample/netflix_titles.csv')\n",
        "netflix.head(5)"
      ],
      "execution_count": 21,
      "outputs": [
        {
          "output_type": "execute_result",
          "data": {
            "text/html": [
              "<div>\n",
              "<style scoped>\n",
              "    .dataframe tbody tr th:only-of-type {\n",
              "        vertical-align: middle;\n",
              "    }\n",
              "\n",
              "    .dataframe tbody tr th {\n",
              "        vertical-align: top;\n",
              "    }\n",
              "\n",
              "    .dataframe thead th {\n",
              "        text-align: right;\n",
              "    }\n",
              "</style>\n",
              "<table border=\"1\" class=\"dataframe\">\n",
              "  <thead>\n",
              "    <tr style=\"text-align: right;\">\n",
              "      <th></th>\n",
              "      <th>show_id</th>\n",
              "      <th>type</th>\n",
              "      <th>title</th>\n",
              "      <th>director</th>\n",
              "      <th>cast</th>\n",
              "      <th>country</th>\n",
              "      <th>date_added</th>\n",
              "      <th>release_year</th>\n",
              "      <th>rating</th>\n",
              "      <th>duration</th>\n",
              "      <th>listed_in</th>\n",
              "      <th>description</th>\n",
              "    </tr>\n",
              "  </thead>\n",
              "  <tbody>\n",
              "    <tr>\n",
              "      <th>0</th>\n",
              "      <td>s1</td>\n",
              "      <td>TV Show</td>\n",
              "      <td>3%</td>\n",
              "      <td>NaN</td>\n",
              "      <td>João Miguel, Bianca Comparato, Michel Gomes, R...</td>\n",
              "      <td>Brazil</td>\n",
              "      <td>August 14, 2020</td>\n",
              "      <td>2020</td>\n",
              "      <td>TV-MA</td>\n",
              "      <td>4 Seasons</td>\n",
              "      <td>International TV Shows, TV Dramas, TV Sci-Fi &amp;...</td>\n",
              "      <td>In a future where the elite inhabit an island ...</td>\n",
              "    </tr>\n",
              "    <tr>\n",
              "      <th>1</th>\n",
              "      <td>s2</td>\n",
              "      <td>Movie</td>\n",
              "      <td>7:19</td>\n",
              "      <td>Jorge Michel Grau</td>\n",
              "      <td>Demián Bichir, Héctor Bonilla, Oscar Serrano, ...</td>\n",
              "      <td>Mexico</td>\n",
              "      <td>December 23, 2016</td>\n",
              "      <td>2016</td>\n",
              "      <td>TV-MA</td>\n",
              "      <td>93 min</td>\n",
              "      <td>Dramas, International Movies</td>\n",
              "      <td>After a devastating earthquake hits Mexico Cit...</td>\n",
              "    </tr>\n",
              "    <tr>\n",
              "      <th>2</th>\n",
              "      <td>s3</td>\n",
              "      <td>Movie</td>\n",
              "      <td>23:59</td>\n",
              "      <td>Gilbert Chan</td>\n",
              "      <td>Tedd Chan, Stella Chung, Henley Hii, Lawrence ...</td>\n",
              "      <td>Singapore</td>\n",
              "      <td>December 20, 2018</td>\n",
              "      <td>2011</td>\n",
              "      <td>R</td>\n",
              "      <td>78 min</td>\n",
              "      <td>Horror Movies, International Movies</td>\n",
              "      <td>When an army recruit is found dead, his fellow...</td>\n",
              "    </tr>\n",
              "    <tr>\n",
              "      <th>3</th>\n",
              "      <td>s4</td>\n",
              "      <td>Movie</td>\n",
              "      <td>9</td>\n",
              "      <td>Shane Acker</td>\n",
              "      <td>Elijah Wood, John C. Reilly, Jennifer Connelly...</td>\n",
              "      <td>United States</td>\n",
              "      <td>November 16, 2017</td>\n",
              "      <td>2009</td>\n",
              "      <td>PG-13</td>\n",
              "      <td>80 min</td>\n",
              "      <td>Action &amp; Adventure, Independent Movies, Sci-Fi...</td>\n",
              "      <td>In a postapocalyptic world, rag-doll robots hi...</td>\n",
              "    </tr>\n",
              "    <tr>\n",
              "      <th>4</th>\n",
              "      <td>s5</td>\n",
              "      <td>Movie</td>\n",
              "      <td>21</td>\n",
              "      <td>Robert Luketic</td>\n",
              "      <td>Jim Sturgess, Kevin Spacey, Kate Bosworth, Aar...</td>\n",
              "      <td>United States</td>\n",
              "      <td>January 1, 2020</td>\n",
              "      <td>2008</td>\n",
              "      <td>PG-13</td>\n",
              "      <td>123 min</td>\n",
              "      <td>Dramas</td>\n",
              "      <td>A brilliant group of students become card-coun...</td>\n",
              "    </tr>\n",
              "  </tbody>\n",
              "</table>\n",
              "</div>"
            ],
            "text/plain": [
              "  show_id  ...                                        description\n",
              "0      s1  ...  In a future where the elite inhabit an island ...\n",
              "1      s2  ...  After a devastating earthquake hits Mexico Cit...\n",
              "2      s3  ...  When an army recruit is found dead, his fellow...\n",
              "3      s4  ...  In a postapocalyptic world, rag-doll robots hi...\n",
              "4      s5  ...  A brilliant group of students become card-coun...\n",
              "\n",
              "[5 rows x 12 columns]"
            ]
          },
          "metadata": {
            "tags": []
          },
          "execution_count": 21
        }
      ]
    },
    {
      "cell_type": "markdown",
      "metadata": {
        "id": "VDzB-MuXnDUD"
      },
      "source": [
        "*Διάβασμα αρχείου IMDB Movies*"
      ]
    },
    {
      "cell_type": "code",
      "metadata": {
        "colab": {
          "base_uri": "https://localhost:8080/",
          "height": 666
        },
        "id": "I3ZiQGQ5nOGs",
        "outputId": "f6a32e3c-d1dc-4bec-93bf-e10b8698861c"
      },
      "source": [
        "imdb_movies=pd.read_csv('/content/gdrive/MyDrive/DataMining/Project1/data_sample/imdb_movies.csv',low_memory=False)\n",
        "imdb_movies.head(5)"
      ],
      "execution_count": 22,
      "outputs": [
        {
          "output_type": "execute_result",
          "data": {
            "text/html": [
              "<div>\n",
              "<style scoped>\n",
              "    .dataframe tbody tr th:only-of-type {\n",
              "        vertical-align: middle;\n",
              "    }\n",
              "\n",
              "    .dataframe tbody tr th {\n",
              "        vertical-align: top;\n",
              "    }\n",
              "\n",
              "    .dataframe thead th {\n",
              "        text-align: right;\n",
              "    }\n",
              "</style>\n",
              "<table border=\"1\" class=\"dataframe\">\n",
              "  <thead>\n",
              "    <tr style=\"text-align: right;\">\n",
              "      <th></th>\n",
              "      <th>imdb_title_id</th>\n",
              "      <th>title</th>\n",
              "      <th>original_title</th>\n",
              "      <th>year</th>\n",
              "      <th>date_published</th>\n",
              "      <th>genre</th>\n",
              "      <th>duration</th>\n",
              "      <th>country</th>\n",
              "      <th>language</th>\n",
              "      <th>director</th>\n",
              "      <th>writer</th>\n",
              "      <th>production_company</th>\n",
              "      <th>actors</th>\n",
              "      <th>description</th>\n",
              "      <th>avg_vote</th>\n",
              "      <th>votes</th>\n",
              "      <th>budget</th>\n",
              "      <th>usa_gross_income</th>\n",
              "      <th>worlwide_gross_income</th>\n",
              "      <th>metascore</th>\n",
              "      <th>reviews_from_users</th>\n",
              "      <th>reviews_from_critics</th>\n",
              "    </tr>\n",
              "  </thead>\n",
              "  <tbody>\n",
              "    <tr>\n",
              "      <th>0</th>\n",
              "      <td>tt0000009</td>\n",
              "      <td>Miss Jerry</td>\n",
              "      <td>Miss Jerry</td>\n",
              "      <td>1894</td>\n",
              "      <td>1894-10-09</td>\n",
              "      <td>Romance</td>\n",
              "      <td>45</td>\n",
              "      <td>USA</td>\n",
              "      <td>None</td>\n",
              "      <td>Alexander Black</td>\n",
              "      <td>Alexander Black</td>\n",
              "      <td>Alexander Black Photoplays</td>\n",
              "      <td>Blanche Bayliss, William Courtenay, Chauncey D...</td>\n",
              "      <td>The adventures of a female reporter in the 1890s.</td>\n",
              "      <td>5.9</td>\n",
              "      <td>154</td>\n",
              "      <td>NaN</td>\n",
              "      <td>NaN</td>\n",
              "      <td>NaN</td>\n",
              "      <td>NaN</td>\n",
              "      <td>1.0</td>\n",
              "      <td>2.0</td>\n",
              "    </tr>\n",
              "    <tr>\n",
              "      <th>1</th>\n",
              "      <td>tt0000574</td>\n",
              "      <td>The Story of the Kelly Gang</td>\n",
              "      <td>The Story of the Kelly Gang</td>\n",
              "      <td>1906</td>\n",
              "      <td>1906-12-26</td>\n",
              "      <td>Biography, Crime, Drama</td>\n",
              "      <td>70</td>\n",
              "      <td>Australia</td>\n",
              "      <td>None</td>\n",
              "      <td>Charles Tait</td>\n",
              "      <td>Charles Tait</td>\n",
              "      <td>J. and N. Tait</td>\n",
              "      <td>Elizabeth Tait, John Tait, Norman Campbell, Be...</td>\n",
              "      <td>True story of notorious Australian outlaw Ned ...</td>\n",
              "      <td>6.1</td>\n",
              "      <td>589</td>\n",
              "      <td>$ 2250</td>\n",
              "      <td>NaN</td>\n",
              "      <td>NaN</td>\n",
              "      <td>NaN</td>\n",
              "      <td>7.0</td>\n",
              "      <td>7.0</td>\n",
              "    </tr>\n",
              "    <tr>\n",
              "      <th>2</th>\n",
              "      <td>tt0001892</td>\n",
              "      <td>Den sorte drøm</td>\n",
              "      <td>Den sorte drøm</td>\n",
              "      <td>1911</td>\n",
              "      <td>1911-08-19</td>\n",
              "      <td>Drama</td>\n",
              "      <td>53</td>\n",
              "      <td>Germany, Denmark</td>\n",
              "      <td>NaN</td>\n",
              "      <td>Urban Gad</td>\n",
              "      <td>Urban Gad, Gebhard Schätzler-Perasini</td>\n",
              "      <td>Fotorama</td>\n",
              "      <td>Asta Nielsen, Valdemar Psilander, Gunnar Helse...</td>\n",
              "      <td>Two men of high rank are both wooing the beaut...</td>\n",
              "      <td>5.8</td>\n",
              "      <td>188</td>\n",
              "      <td>NaN</td>\n",
              "      <td>NaN</td>\n",
              "      <td>NaN</td>\n",
              "      <td>NaN</td>\n",
              "      <td>5.0</td>\n",
              "      <td>2.0</td>\n",
              "    </tr>\n",
              "    <tr>\n",
              "      <th>3</th>\n",
              "      <td>tt0002101</td>\n",
              "      <td>Cleopatra</td>\n",
              "      <td>Cleopatra</td>\n",
              "      <td>1912</td>\n",
              "      <td>1912-11-13</td>\n",
              "      <td>Drama, History</td>\n",
              "      <td>100</td>\n",
              "      <td>USA</td>\n",
              "      <td>English</td>\n",
              "      <td>Charles L. Gaskill</td>\n",
              "      <td>Victorien Sardou</td>\n",
              "      <td>Helen Gardner Picture Players</td>\n",
              "      <td>Helen Gardner, Pearl Sindelar, Miss Fielding, ...</td>\n",
              "      <td>The fabled queen of Egypt's affair with Roman ...</td>\n",
              "      <td>5.2</td>\n",
              "      <td>446</td>\n",
              "      <td>$ 45000</td>\n",
              "      <td>NaN</td>\n",
              "      <td>NaN</td>\n",
              "      <td>NaN</td>\n",
              "      <td>25.0</td>\n",
              "      <td>3.0</td>\n",
              "    </tr>\n",
              "    <tr>\n",
              "      <th>4</th>\n",
              "      <td>tt0002130</td>\n",
              "      <td>L'Inferno</td>\n",
              "      <td>L'Inferno</td>\n",
              "      <td>1911</td>\n",
              "      <td>1911-03-06</td>\n",
              "      <td>Adventure, Drama, Fantasy</td>\n",
              "      <td>68</td>\n",
              "      <td>Italy</td>\n",
              "      <td>Italian</td>\n",
              "      <td>Francesco Bertolini, Adolfo Padovan</td>\n",
              "      <td>Dante Alighieri</td>\n",
              "      <td>Milano Film</td>\n",
              "      <td>Salvatore Papa, Arturo Pirovano, Giuseppe de L...</td>\n",
              "      <td>Loosely adapted from Dante's Divine Comedy and...</td>\n",
              "      <td>7.0</td>\n",
              "      <td>2237</td>\n",
              "      <td>NaN</td>\n",
              "      <td>NaN</td>\n",
              "      <td>NaN</td>\n",
              "      <td>NaN</td>\n",
              "      <td>31.0</td>\n",
              "      <td>14.0</td>\n",
              "    </tr>\n",
              "  </tbody>\n",
              "</table>\n",
              "</div>"
            ],
            "text/plain": [
              "  imdb_title_id  ... reviews_from_critics\n",
              "0     tt0000009  ...                  2.0\n",
              "1     tt0000574  ...                  7.0\n",
              "2     tt0001892  ...                  2.0\n",
              "3     tt0002101  ...                  3.0\n",
              "4     tt0002130  ...                 14.0\n",
              "\n",
              "[5 rows x 22 columns]"
            ]
          },
          "metadata": {
            "tags": []
          },
          "execution_count": 22
        }
      ]
    },
    {
      "cell_type": "markdown",
      "metadata": {
        "id": "-F8wckxsnYba"
      },
      "source": [
        "*Διάβασμα αρχείου IMDB Ratings*"
      ]
    },
    {
      "cell_type": "code",
      "metadata": {
        "colab": {
          "base_uri": "https://localhost:8080/",
          "height": 666
        },
        "id": "KwxQVpYvnhXA",
        "outputId": "8730fe91-7497-46a4-ecbf-32b1944ddf6d"
      },
      "source": [
        "imdb_ratings=pd.read_csv('/content/gdrive/MyDrive/DataMining/Project1/data_sample/imdb_movies.csv',low_memory=False)\n",
        "imdb_ratings.head(5)"
      ],
      "execution_count": 23,
      "outputs": [
        {
          "output_type": "execute_result",
          "data": {
            "text/html": [
              "<div>\n",
              "<style scoped>\n",
              "    .dataframe tbody tr th:only-of-type {\n",
              "        vertical-align: middle;\n",
              "    }\n",
              "\n",
              "    .dataframe tbody tr th {\n",
              "        vertical-align: top;\n",
              "    }\n",
              "\n",
              "    .dataframe thead th {\n",
              "        text-align: right;\n",
              "    }\n",
              "</style>\n",
              "<table border=\"1\" class=\"dataframe\">\n",
              "  <thead>\n",
              "    <tr style=\"text-align: right;\">\n",
              "      <th></th>\n",
              "      <th>imdb_title_id</th>\n",
              "      <th>title</th>\n",
              "      <th>original_title</th>\n",
              "      <th>year</th>\n",
              "      <th>date_published</th>\n",
              "      <th>genre</th>\n",
              "      <th>duration</th>\n",
              "      <th>country</th>\n",
              "      <th>language</th>\n",
              "      <th>director</th>\n",
              "      <th>writer</th>\n",
              "      <th>production_company</th>\n",
              "      <th>actors</th>\n",
              "      <th>description</th>\n",
              "      <th>avg_vote</th>\n",
              "      <th>votes</th>\n",
              "      <th>budget</th>\n",
              "      <th>usa_gross_income</th>\n",
              "      <th>worlwide_gross_income</th>\n",
              "      <th>metascore</th>\n",
              "      <th>reviews_from_users</th>\n",
              "      <th>reviews_from_critics</th>\n",
              "    </tr>\n",
              "  </thead>\n",
              "  <tbody>\n",
              "    <tr>\n",
              "      <th>0</th>\n",
              "      <td>tt0000009</td>\n",
              "      <td>Miss Jerry</td>\n",
              "      <td>Miss Jerry</td>\n",
              "      <td>1894</td>\n",
              "      <td>1894-10-09</td>\n",
              "      <td>Romance</td>\n",
              "      <td>45</td>\n",
              "      <td>USA</td>\n",
              "      <td>None</td>\n",
              "      <td>Alexander Black</td>\n",
              "      <td>Alexander Black</td>\n",
              "      <td>Alexander Black Photoplays</td>\n",
              "      <td>Blanche Bayliss, William Courtenay, Chauncey D...</td>\n",
              "      <td>The adventures of a female reporter in the 1890s.</td>\n",
              "      <td>5.9</td>\n",
              "      <td>154</td>\n",
              "      <td>NaN</td>\n",
              "      <td>NaN</td>\n",
              "      <td>NaN</td>\n",
              "      <td>NaN</td>\n",
              "      <td>1.0</td>\n",
              "      <td>2.0</td>\n",
              "    </tr>\n",
              "    <tr>\n",
              "      <th>1</th>\n",
              "      <td>tt0000574</td>\n",
              "      <td>The Story of the Kelly Gang</td>\n",
              "      <td>The Story of the Kelly Gang</td>\n",
              "      <td>1906</td>\n",
              "      <td>1906-12-26</td>\n",
              "      <td>Biography, Crime, Drama</td>\n",
              "      <td>70</td>\n",
              "      <td>Australia</td>\n",
              "      <td>None</td>\n",
              "      <td>Charles Tait</td>\n",
              "      <td>Charles Tait</td>\n",
              "      <td>J. and N. Tait</td>\n",
              "      <td>Elizabeth Tait, John Tait, Norman Campbell, Be...</td>\n",
              "      <td>True story of notorious Australian outlaw Ned ...</td>\n",
              "      <td>6.1</td>\n",
              "      <td>589</td>\n",
              "      <td>$ 2250</td>\n",
              "      <td>NaN</td>\n",
              "      <td>NaN</td>\n",
              "      <td>NaN</td>\n",
              "      <td>7.0</td>\n",
              "      <td>7.0</td>\n",
              "    </tr>\n",
              "    <tr>\n",
              "      <th>2</th>\n",
              "      <td>tt0001892</td>\n",
              "      <td>Den sorte drøm</td>\n",
              "      <td>Den sorte drøm</td>\n",
              "      <td>1911</td>\n",
              "      <td>1911-08-19</td>\n",
              "      <td>Drama</td>\n",
              "      <td>53</td>\n",
              "      <td>Germany, Denmark</td>\n",
              "      <td>NaN</td>\n",
              "      <td>Urban Gad</td>\n",
              "      <td>Urban Gad, Gebhard Schätzler-Perasini</td>\n",
              "      <td>Fotorama</td>\n",
              "      <td>Asta Nielsen, Valdemar Psilander, Gunnar Helse...</td>\n",
              "      <td>Two men of high rank are both wooing the beaut...</td>\n",
              "      <td>5.8</td>\n",
              "      <td>188</td>\n",
              "      <td>NaN</td>\n",
              "      <td>NaN</td>\n",
              "      <td>NaN</td>\n",
              "      <td>NaN</td>\n",
              "      <td>5.0</td>\n",
              "      <td>2.0</td>\n",
              "    </tr>\n",
              "    <tr>\n",
              "      <th>3</th>\n",
              "      <td>tt0002101</td>\n",
              "      <td>Cleopatra</td>\n",
              "      <td>Cleopatra</td>\n",
              "      <td>1912</td>\n",
              "      <td>1912-11-13</td>\n",
              "      <td>Drama, History</td>\n",
              "      <td>100</td>\n",
              "      <td>USA</td>\n",
              "      <td>English</td>\n",
              "      <td>Charles L. Gaskill</td>\n",
              "      <td>Victorien Sardou</td>\n",
              "      <td>Helen Gardner Picture Players</td>\n",
              "      <td>Helen Gardner, Pearl Sindelar, Miss Fielding, ...</td>\n",
              "      <td>The fabled queen of Egypt's affair with Roman ...</td>\n",
              "      <td>5.2</td>\n",
              "      <td>446</td>\n",
              "      <td>$ 45000</td>\n",
              "      <td>NaN</td>\n",
              "      <td>NaN</td>\n",
              "      <td>NaN</td>\n",
              "      <td>25.0</td>\n",
              "      <td>3.0</td>\n",
              "    </tr>\n",
              "    <tr>\n",
              "      <th>4</th>\n",
              "      <td>tt0002130</td>\n",
              "      <td>L'Inferno</td>\n",
              "      <td>L'Inferno</td>\n",
              "      <td>1911</td>\n",
              "      <td>1911-03-06</td>\n",
              "      <td>Adventure, Drama, Fantasy</td>\n",
              "      <td>68</td>\n",
              "      <td>Italy</td>\n",
              "      <td>Italian</td>\n",
              "      <td>Francesco Bertolini, Adolfo Padovan</td>\n",
              "      <td>Dante Alighieri</td>\n",
              "      <td>Milano Film</td>\n",
              "      <td>Salvatore Papa, Arturo Pirovano, Giuseppe de L...</td>\n",
              "      <td>Loosely adapted from Dante's Divine Comedy and...</td>\n",
              "      <td>7.0</td>\n",
              "      <td>2237</td>\n",
              "      <td>NaN</td>\n",
              "      <td>NaN</td>\n",
              "      <td>NaN</td>\n",
              "      <td>NaN</td>\n",
              "      <td>31.0</td>\n",
              "      <td>14.0</td>\n",
              "    </tr>\n",
              "  </tbody>\n",
              "</table>\n",
              "</div>"
            ],
            "text/plain": [
              "  imdb_title_id  ... reviews_from_critics\n",
              "0     tt0000009  ...                  2.0\n",
              "1     tt0000574  ...                  7.0\n",
              "2     tt0001892  ...                  2.0\n",
              "3     tt0002101  ...                  3.0\n",
              "4     tt0002130  ...                 14.0\n",
              "\n",
              "[5 rows x 22 columns]"
            ]
          },
          "metadata": {
            "tags": []
          },
          "execution_count": 23
        }
      ]
    },
    {
      "cell_type": "markdown",
      "metadata": {
        "id": "8Tp2kWKSW_qm"
      },
      "source": [
        "**Ερώτημα 1:**\n",
        "*Ποιό είδος υπερτερεί, οι ταινίες ή οι σειρές ;*\n"
      ]
    },
    {
      "cell_type": "code",
      "metadata": {
        "colab": {
          "base_uri": "https://localhost:8080/"
        },
        "id": "JudMqLQiXRvd",
        "outputId": "784800d0-d8ef-4ba2-c928-d1277c7b7f6a"
      },
      "source": [
        "num_movies=netflix.loc[netflix['type']=='Movie'].count().max()\n",
        "num_shows=netflix.loc[netflix['type']=='TV Show'].count().max()\n",
        "if num_movies>num_shows:\n",
        "    print('Υπερτερούν οι ταινίες με αριθμό:', num_movies)\n",
        "else:\n",
        "    print('Υπερτερούν οι σειρές με αριθμό', num_show)"
      ],
      "execution_count": 24,
      "outputs": [
        {
          "output_type": "stream",
          "text": [
            "Υπερτερούν οι ταινίες με αριθμό: 5377\n"
          ],
          "name": "stdout"
        }
      ]
    },
    {
      "cell_type": "markdown",
      "metadata": {
        "id": "Q8szWECWXWgv"
      },
      "source": [
        "**Ερώτημα 2:**\n",
        "*Τα τελευταία χρόνια το netflix επενδύει περισσότερο σε ταινίες ή σε σειρές;*"
      ]
    },
    {
      "cell_type": "code",
      "metadata": {
        "colab": {
          "base_uri": "https://localhost:8080/",
          "height": 278
        },
        "id": "Q3iJ7OAGXlvU",
        "outputId": "b24cfd61-9a5b-4c3f-eca3-38f87e799e40"
      },
      "source": [
        "tempDF = netflix.dropna(axis=0, subset=['date_added'])\n",
        "for x, y in tempDF.iterrows():\n",
        "    date = str(y['date_added'])\n",
        "    year = date.split(\", \")\n",
        "    tempDF.at[x, 'date_added'] = year[-1]\n",
        "\n",
        "dates = tempDF.groupby('date_added')\n",
        "latest = dates['type'].value_counts()\n",
        "LY = {}\n",
        "for x, y in latest.iteritems():\n",
        "    if x[0] not in LY:\n",
        "        LY[x[0]] = []\n",
        "    LY[x[0]].append(y)\n",
        "  \n",
        "df1 = pd.DataFrame.from_dict(LY, orient='index', columns=['Movies', 'TV Shows']).fillna(0).astype({'Movies': int, 'TV Shows': int})\n",
        "df1.plot.bar(rot=0)\n",
        "mpl.pyplot.ylabel('Count')\n",
        "mpl.pyplot.xlabel('Year')\n",
        "mpl.pyplot.tick_params(axis='x', which='major', labelsize=9)"
      ],
      "execution_count": 29,
      "outputs": [
        {
          "output_type": "display_data",
          "data": {
            "image/png": "[encoded data removed]",
            "text/plain": [
              "<Figure size 432x288 with 1 Axes>"
            ]
          },
          "metadata": {
            "tags": [],
            "needs_background": "light"
          }
        }
      ]
    },
    {
      "cell_type": "markdown",
      "metadata": {
        "id": "6yw8ZfUUXq3K"
      },
      "source": [
        "**Ερώτημα 3:**\n",
        "*Ποιά χώρα έχει το περισσότερο περιεχόμενο;*"
      ]
    },
    {
      "cell_type": "code",
      "metadata": {
        "colab": {
          "base_uri": "https://localhost:8080/"
        },
        "id": "DysFkCsrX2XU",
        "outputId": "650e7c3f-e32a-4726-c47a-a4520cb16e80"
      },
      "source": [
        "row_accumulator = []\n",
        "\n",
        "def split_list_to_rows(row):\n",
        "    split_row = str(row['country']).split(\", \")\n",
        "    if isinstance(split_row, list):\n",
        "        for s in split_row:\n",
        "            if s!=\"nan\":\n",
        "                new_row = row.to_dict()\n",
        "                new_row['country'] = str(s)\n",
        "                row_accumulator.append(new_row)\n",
        "    else:\n",
        "        if split_row!=\"nan\":\n",
        "            new_row = row.to_dict()\n",
        "            new_row['country'] = str(split_row)\n",
        "            row_accumulator.append(new_row)\n",
        "\n",
        "netflix.apply(split_list_to_rows, axis=1)\n",
        "new_df = pd.DataFrame(row_accumulator)\n",
        "top_country=new_df['country'].value_counts(dropna=True).index[0]\n",
        "top_value=new_df['country'].value_counts(dropna=True)[0]\n",
        "print(\"Η χώρα με το περισσότερο περιεχόμενο είναι:\",top_country,\"με:\",top_value)"
      ],
      "execution_count": 7,
      "outputs": [
        {
          "output_type": "stream",
          "text": [
            "Η χώρα με το περισσότερο περιεχόμενο είναι: United States με: 3296\n"
          ],
          "name": "stdout"
        }
      ]
    },
    {
      "cell_type": "markdown",
      "metadata": {
        "id": "z5-4hq3gYD2F"
      },
      "source": [
        "**Ερώτημα 4:**\n",
        "*Τι είδους περιεχόμενο έχει κάθε χώρα;*"
      ]
    },
    {
      "cell_type": "code",
      "metadata": {
        "colab": {
          "base_uri": "https://localhost:8080/"
        },
        "id": "aoYDvwUBYOP2",
        "outputId": "f6383383-1ffd-400c-9576-16a5171d8a5e"
      },
      "source": [
        "# countries=set()\n",
        "# for country in netflix['country']:\n",
        "#     countries.add(country)\n",
        "# print(countries)\n",
        "\n",
        "countries=set()\n",
        "tok=netflix['country'].astype(str).str.split(\",\")\n",
        "print(tok)\n",
        "\n",
        "# countries=netflix['country'].astype(str).str.split(\",\").tolist()\n",
        "# print(countries)\n",
        "\n",
        "# countries=netflix['country'].astype(str).tolist()\n",
        "# for c in countries:\n",
        "#     print(c)\n",
        "\n",
        "\n"
      ],
      "execution_count": 8,
      "outputs": [
        {
          "output_type": "stream",
          "text": [
            "0                                                [Brazil]\n",
            "1                                                [Mexico]\n",
            "2                                             [Singapore]\n",
            "3                                         [United States]\n",
            "4                                         [United States]\n",
            "                              ...                        \n",
            "7782    [Sweden,  Czech Republic,  United Kingdom,  De...\n",
            "7783                                              [India]\n",
            "7784                                                [nan]\n",
            "7785                                          [Australia]\n",
            "7786            [United Kingdom,  Canada,  United States]\n",
            "Name: country, Length: 7787, dtype: object\n"
          ],
          "name": "stdout"
        }
      ]
    },
    {
      "cell_type": "markdown",
      "metadata": {
        "id": "oRnenAecKSYe"
      },
      "source": [
        "**Ερώτημα 5:**\n",
        "*Ετοιμάστε γραφήματα που δειχνουν τους ηθοποιούς με τις περισσότερες ταινίες σε\n",
        "κάθε χώρα. Κάντε το ίδιο και για τις σειρές*"
      ]
    },
    {
      "cell_type": "code",
      "metadata": {
        "colab": {
          "base_uri": "https://localhost:8080/"
        },
        "id": "hBPwqehyKmE4",
        "outputId": "78dd079a-4764-4563-ec2f-4b18d5775a20"
      },
      "source": [
        "# Για τις ταινίες\n",
        "\n",
        "netflix.apply(split_list_to_rows,axis=1)\n",
        "new_df=pd.DataFrame(row_accumulator)\n",
        "no_dup=set()\n",
        "for i in row_accumulator:\n",
        "    no_dup.add(i['country'])\n",
        "print(no_dup)\n",
        "for i in no_dup:\n",
        "    print(i)\n",
        "    \n",
        "    "
      ],
      "execution_count": 18,
      "outputs": [
        {
          "output_type": "stream",
          "text": [
            "{'Cambodia', 'Serbia', 'Lebanon', 'United Kingdom', 'Saudi Arabia', 'Nicaragua', 'Montenegro', 'Armenia', 'East Germany', 'Liechtenstein', 'Guatemala', 'Mongolia', 'Iceland', 'Indonesia', 'Finland', 'Cuba', 'Israel', 'Vatican City', 'Mauritius', 'Ghana', 'Samoa', 'Malta', 'Dominican Republic', 'Namibia', 'Hong Kong', 'Jordan', 'Hungary', 'Paraguay', 'Germany', 'Colombia', 'Poland,', 'Mexico', 'New Zealand', 'Syria', 'Romania', 'Senegal', 'Australia', 'Soviet Union', 'Nepal', 'Russia', 'Lithuania', 'Spain', 'Portugal', 'Switzerland', 'South Korea', 'Canada', 'Uruguay', 'Cambodia,', 'Italy', 'Bermuda', 'Uganda', 'Denmark', 'United States', 'Panama', 'Cayman Islands', 'Afghanistan', 'Kazakhstan', 'United Kingdom,', 'Pakistan', 'Algeria', 'Cyprus', 'Jamaica', 'Venezuela', 'Vietnam', 'Sweden', 'Croatia', 'Nigeria', 'Kuwait', 'Zimbabwe', 'Azerbaijan', 'United Arab Emirates', 'China', 'Slovenia', 'Luxembourg', 'West Germany', 'Albania', 'Iraq', 'Greece', 'Belgium', 'Puerto Rico', 'India', 'Argentina', 'Chile', 'Iran', 'Malaysia', 'Kenya', 'Angola', 'Egypt', 'France', 'Brazil', 'Sudan', 'Somalia', 'Georgia', 'Sri Lanka', 'Bangladesh', 'Japan', 'Thailand', 'Malawi', 'Netherlands', 'Belarus', 'Qatar', 'Ecuador', 'Czech Republic', 'Ukraine', 'Botswana', 'Bahamas', 'Philippines', 'Peru', 'Bulgaria', 'Austria', 'Latvia', 'South Africa', 'Slovakia', 'Ireland', 'Poland', 'Singapore', 'United States,', 'Norway', 'Turkey', 'Morocco', 'Taiwan'}\n",
            "Cambodia\n",
            "Serbia\n",
            "Lebanon\n",
            "United Kingdom\n",
            "Saudi Arabia\n",
            "Nicaragua\n",
            "Montenegro\n",
            "Armenia\n",
            "East Germany\n",
            "Liechtenstein\n",
            "Guatemala\n",
            "Mongolia\n",
            "Iceland\n",
            "Indonesia\n",
            "Finland\n",
            "Cuba\n",
            "Israel\n",
            "Vatican City\n",
            "Mauritius\n",
            "Ghana\n",
            "Samoa\n",
            "Malta\n",
            "Dominican Republic\n",
            "Namibia\n",
            "Hong Kong\n",
            "Jordan\n",
            "Hungary\n",
            "Paraguay\n",
            "Germany\n",
            "Colombia\n",
            "Poland,\n",
            "Mexico\n",
            "New Zealand\n",
            "Syria\n",
            "Romania\n",
            "Senegal\n",
            "Australia\n",
            "Soviet Union\n",
            "Nepal\n",
            "Russia\n",
            "Lithuania\n",
            "Spain\n",
            "Portugal\n",
            "Switzerland\n",
            "South Korea\n",
            "Canada\n",
            "Uruguay\n",
            "Cambodia,\n",
            "Italy\n",
            "Bermuda\n",
            "Uganda\n",
            "Denmark\n",
            "United States\n",
            "Panama\n",
            "Cayman Islands\n",
            "Afghanistan\n",
            "Kazakhstan\n",
            "United Kingdom,\n",
            "Pakistan\n",
            "Algeria\n",
            "Cyprus\n",
            "Jamaica\n",
            "Venezuela\n",
            "Vietnam\n",
            "Sweden\n",
            "Croatia\n",
            "Nigeria\n",
            "Kuwait\n",
            "Zimbabwe\n",
            "Azerbaijan\n",
            "United Arab Emirates\n",
            "China\n",
            "Slovenia\n",
            "Luxembourg\n",
            "West Germany\n",
            "Albania\n",
            "Iraq\n",
            "Greece\n",
            "Belgium\n",
            "Puerto Rico\n",
            "India\n",
            "Argentina\n",
            "Chile\n",
            "Iran\n",
            "Malaysia\n",
            "Kenya\n",
            "Angola\n",
            "Egypt\n",
            "France\n",
            "Brazil\n",
            "Sudan\n",
            "Somalia\n",
            "Georgia\n",
            "Sri Lanka\n",
            "Bangladesh\n",
            "Japan\n",
            "Thailand\n",
            "Malawi\n",
            "Netherlands\n",
            "Belarus\n",
            "Qatar\n",
            "Ecuador\n",
            "Czech Republic\n",
            "Ukraine\n",
            "Botswana\n",
            "Bahamas\n",
            "Philippines\n",
            "Peru\n",
            "Bulgaria\n",
            "Austria\n",
            "Latvia\n",
            "South Africa\n",
            "Slovakia\n",
            "Ireland\n",
            "Poland\n",
            "Singapore\n",
            "United States,\n",
            "Norway\n",
            "Turkey\n",
            "Morocco\n",
            "Taiwan\n"
          ],
          "name": "stdout"
        }
      ]
    }
  ]
}