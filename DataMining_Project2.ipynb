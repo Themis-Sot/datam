{
  "nbformat": 4,
  "nbformat_minor": 0,
  "metadata": {
    "colab": {
      "name": "DataMining_Project2.ipynb",
      "provenance": [],
      "collapsed_sections": [],
      "authorship_tag": "ABX9TyOWgcF+0Gecq8g5aSM7240C"
    },
    "kernelspec": {
      "name": "python3",
      "display_name": "Python 3"
    },
    "language_info": {
      "name": "python"
    }
  },
  "cells": [
    {
      "cell_type": "markdown",
      "metadata": {
        "id": "F2ux4pxTbWFu"
      },
      "source": [
        "# Τεχνικές Εξόρυξης Δεδομένων\n",
        "### Εργασία 2, Εαρινό Εξάμηνο 2021"
      ]
    },
    {
      "cell_type": "markdown",
      "metadata": {
        "id": "m71Hh_zCbr82"
      },
      "source": [
        "**Θεμιστοκλής Σωτηρόπουλος 1115201400197**\n",
        "\n",
        "**Δημήτριος Μπέρος 1115201600269**"
      ]
    },
    {
      "cell_type": "markdown",
      "metadata": {
        "id": "elo7uMQNb7oi"
      },
      "source": [
        "*Προετοιμασία*"
      ]
    },
    {
      "cell_type": "code",
      "metadata": {
        "colab": {
          "base_uri": "https://localhost:8080/"
        },
        "id": "9sEI2WYCbBnC",
        "outputId": "a82a7817-4b77-4675-d7d7-90484077191b"
      },
      "source": [
        "import matplotlib as mpl\n",
        "import matplotlib.pyplot as plt\n",
        "import sys\n",
        "import pandas as pd\n",
        "import random\n",
        "import numpy as np\n",
        "import re\n",
        "import random\n",
        "from sklearn.feature_extraction.text import TfidfVectorizer \n",
        "from sklearn.feature_extraction.text import CountVectorizer\n",
        "from sklearn.metrics.pairwise import cosine_similarity\n",
        "from sklearn.metrics import jaccard_score\n",
        "from google.colab import drive\n",
        "drive.mount('/content/gdrive',force_remount=True)"
      ],
      "execution_count": 1,
      "outputs": [
        {
          "output_type": "stream",
          "text": [
            "Mounted at /content/gdrive\n"
          ],
          "name": "stdout"
        }
      ]
    }
  ]
}